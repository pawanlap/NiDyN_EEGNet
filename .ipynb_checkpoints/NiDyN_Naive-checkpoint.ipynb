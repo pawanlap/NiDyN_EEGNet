{
 "cells": [
  {
   "cell_type": "code",
   "execution_count": 17,
   "metadata": {},
   "outputs": [],
   "source": [
    "import sys\n",
    "sys.path.append(r'C:\\Users\\admin\\Documents\\NiDyN_EEGNET\\arl-eegmodels')"
   ]
  },
  {
   "cell_type": "code",
   "execution_count": 18,
   "metadata": {},
   "outputs": [],
   "source": [
    "from EEGModels import EEGNet, ShallowConvNet, DeepConvNet"
   ]
  },
  {
   "cell_type": "code",
   "execution_count": 19,
   "metadata": {},
   "outputs": [],
   "source": [
    "from scipy.io import loadmat"
   ]
  },
  {
   "cell_type": "code",
   "execution_count": 26,
   "metadata": {},
   "outputs": [
    {
     "data": {
      "text/plain": [
       "10"
      ]
     },
     "execution_count": 26,
     "metadata": {},
     "output_type": "execute_result"
    }
   ],
   "source": [
    "import glob\n",
    "file_list = glob.glob(\"Raw_Data\\*.mat\")"
   ]
  },
  {
   "cell_type": "code",
   "execution_count": 48,
   "metadata": {},
   "outputs": [],
   "source": [
    "import numpy as np\n",
    "subj = 2\n",
    "\n",
    "for i in range(0,len(file_list)-1):\n",
    "    data = loadmat(file_list[i])\n",
    "    eeg_matrix = data['eeg_matrix']\n",
    "    label_array = data['label_array']\n",
    "    labels = label_array.flatten()\n",
    "    label = np.zeros((len(label_array),2))\n",
    "    target_ind = labels == 1\n",
    "    label[target_ind,1] = 1\n",
    "    label[~target_ind,0] = 1\n",
    "    if i == 0:\n",
    "        eeg_matrix_train = eeg_matrix\n",
    "        label_train = label\n",
    "    elif i == subj:\n",
    "        eeg_matrix_test = eeg_matrix\n",
    "        label_test = label\n",
    "    else:\n",
    "        eeg_matrix_train = np.concatenate((eeg_matrix_train,eeg_matrix),axis=0)\n",
    "        label_train = np.concatenate((label_train,label),axis=0)\n"
   ]
  },
  {
   "cell_type": "code",
   "execution_count": 49,
   "metadata": {},
   "outputs": [],
   "source": [
    "eeg_matrix_train = np.expand_dims(eeg_matrix_train,axis=1)\n",
    "eeg_matrix_test = np.expand_dims(eeg_matrix_test,axis=1)"
   ]
  },
  {
   "cell_type": "code",
   "execution_count": 50,
   "metadata": {},
   "outputs": [],
   "source": [
    "model = EEGNet(nb_classes = 2, Chans = 64, Samples = 256)"
   ]
  },
  {
   "cell_type": "code",
   "execution_count": 51,
   "metadata": {},
   "outputs": [],
   "source": [
    "model.compile(loss = 'categorical_crossentropy', optimizer = 'adam', metrics=['accuracy'])"
   ]
  },
  {
   "cell_type": "code",
   "execution_count": 52,
   "metadata": {},
   "outputs": [
    {
     "name": "stdout",
     "output_type": "stream",
     "text": [
      "Epoch 1/10\n",
      "2609/2609 [==============================] - 3s 1ms/step - loss: 0.6124 - acc: 0.7125\n",
      "Epoch 2/10\n",
      "2609/2609 [==============================] - 3s 1ms/step - loss: 0.5700 - acc: 0.7501\n",
      "Epoch 3/10\n",
      "2609/2609 [==============================] - 3s 1ms/step - loss: 0.5704 - acc: 0.7505\n",
      "Epoch 4/10\n",
      "2609/2609 [==============================] - 3s 1ms/step - loss: 0.5668 - acc: 0.7501\n",
      "Epoch 5/10\n",
      "2609/2609 [==============================] - 3s 1ms/step - loss: 0.5666 - acc: 0.7505\n",
      "Epoch 6/10\n",
      "2609/2609 [==============================] - 3s 1ms/step - loss: 0.5723 - acc: 0.7505\n",
      "Epoch 7/10\n",
      "2609/2609 [==============================] - 3s 1ms/step - loss: 0.5657 - acc: 0.7505\n",
      "Epoch 8/10\n",
      "2609/2609 [==============================] - 3s 1ms/step - loss: 0.5666 - acc: 0.7505\n",
      "Epoch 9/10\n",
      "2609/2609 [==============================] - 3s 1ms/step - loss: 0.5626 - acc: 0.7505\n",
      "Epoch 10/10\n",
      "2609/2609 [==============================] - 3s 1ms/step - loss: 0.5657 - acc: 0.7505\n"
     ]
    },
    {
     "data": {
      "text/plain": [
       "<tensorflow.python.keras.callbacks.History at 0x23c8eba8>"
      ]
     },
     "execution_count": 52,
     "metadata": {},
     "output_type": "execute_result"
    }
   ],
   "source": [
    "model.fit(x = eeg_matrix_train, y = label_train, batch_size = 32, epochs = 10)"
   ]
  },
  {
   "cell_type": "code",
   "execution_count": 53,
   "metadata": {},
   "outputs": [],
   "source": [
    "a = model.predict(x = eeg_matrix_test, batch_size = 32)"
   ]
  },
  {
   "cell_type": "code",
   "execution_count": 54,
   "metadata": {},
   "outputs": [
    {
     "name": "stdout",
     "output_type": "stream",
     "text": [
      "326/326 [==============================] - 0s 825us/step\n"
     ]
    },
    {
     "data": {
      "text/plain": [
       "[0.5718049611782003, 0.751533742696961]"
      ]
     },
     "execution_count": 54,
     "metadata": {},
     "output_type": "execute_result"
    }
   ],
   "source": [
    "model.evaluate(x = eeg_matrix_test, y = label_test)"
   ]
  },
  {
   "cell_type": "code",
   "execution_count": 56,
   "metadata": {},
   "outputs": [
    {
     "ename": "AttributeError",
     "evalue": "'list' object has no attribute 'shape'",
     "output_type": "error",
     "traceback": [
      "\u001b[1;31m---------------------------------------------------------------------------\u001b[0m",
      "\u001b[1;31mAttributeError\u001b[0m                            Traceback (most recent call last)",
      "\u001b[1;32m<ipython-input-56-5b68ab331f87>\u001b[0m in \u001b[0;36m<module>\u001b[1;34m\u001b[0m\n\u001b[1;32m----> 1\u001b[1;33m \u001b[0mmodel\u001b[0m\u001b[1;33m.\u001b[0m\u001b[0mweights\u001b[0m\u001b[1;33m.\u001b[0m\u001b[0mshape\u001b[0m\u001b[1;33m\u001b[0m\u001b[1;33m\u001b[0m\u001b[0m\n\u001b[0m",
      "\u001b[1;31mAttributeError\u001b[0m: 'list' object has no attribute 'shape'"
     ]
    }
   ],
   "source": [
    "model.weights.shape"
   ]
  },
  {
   "cell_type": "code",
   "execution_count": null,
   "metadata": {},
   "outputs": [],
   "source": []
  }
 ],
 "metadata": {
  "kernelspec": {
   "display_name": "Python 3",
   "language": "python",
   "name": "python3"
  },
  "language_info": {
   "codemirror_mode": {
    "name": "ipython",
    "version": 3
   },
   "file_extension": ".py",
   "mimetype": "text/x-python",
   "name": "python",
   "nbconvert_exporter": "python",
   "pygments_lexer": "ipython3",
   "version": "3.6.8"
  }
 },
 "nbformat": 4,
 "nbformat_minor": 2
}
