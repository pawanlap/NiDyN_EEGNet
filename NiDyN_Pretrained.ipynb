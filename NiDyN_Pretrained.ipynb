{
 "cells": [
  {
   "cell_type": "code",
   "execution_count": 1,
   "metadata": {},
   "outputs": [],
   "source": [
    "import sys\n",
    "sys.path.append(r'C:\\Users\\admin\\Documents\\NiDyN_EEGNET\\arl-eegmodels')\n",
    "from EEGModels import EEGNet, ShallowConvNet, DeepConvNet\n",
    "from scipy.io import loadmat\n",
    "import glob\n",
    "import numpy as np"
   ]
  },
  {
   "cell_type": "code",
   "execution_count": 2,
   "metadata": {},
   "outputs": [],
   "source": [
    "file_list = glob.glob(\"Processed_Data\\*normARL.mat\")\n",
    "for i in range(0,len(file_list)):\n",
    "    data = loadmat(file_list[i])\n",
    "    eeg_matrix = data['eeg_matrix']\n",
    "    # Use the data from 0-1s\n",
    "    eeg_matrix = eeg_matrix[:,:,0:128]\n",
    "    label_array = data['label_array']\n",
    "    labels = label_array.flatten()\n",
    "    label = np.zeros((len(label_array),2))\n",
    "    target_ind = labels == 1\n",
    "    label[target_ind,1] = 1\n",
    "    label[~target_ind,0] = 1\n",
    "    if i == 0:\n",
    "        eeg_matrix_all = eeg_matrix\n",
    "        label_all = label\n",
    "    else:\n",
    "        eeg_matrix_all = np.concatenate((eeg_matrix_all,eeg_matrix),axis=0)\n",
    "        label_all = np.concatenate((label_all,label),axis=0)\n",
    "eeg_matrix_all = np.expand_dims(eeg_matrix_all,axis=1)        "
   ]
  },
  {
   "cell_type": "code",
   "execution_count": 22,
   "metadata": {},
   "outputs": [],
   "source": [
    "model = EEGNet(nb_classes = 2, Chans = 64, Samples = 128)\n",
    "WEIGHTS_PATH = ('arl-eegmodels/examples/model1.h5') \n",
    "model.load_weights(WEIGHTS_PATH)"
   ]
  },
  {
   "cell_type": "code",
   "execution_count": 23,
   "metadata": {},
   "outputs": [
    {
     "name": "stdout",
     "output_type": "stream",
     "text": [
      "Classification accuracy: 0.747778 \n"
     ]
    }
   ],
   "source": [
    "probs       = model.predict(eeg_matrix_all)\n",
    "preds       = probs.argmax(axis = -1)  \n",
    "acc         = np.mean(preds == label_all.argmax(axis=-1))\n",
    "print(\"Classification accuracy: %f \" % (acc))"
   ]
  },
  {
   "cell_type": "code",
   "execution_count": 24,
   "metadata": {},
   "outputs": [
    {
     "data": {
      "text/plain": [
       "0.5191519929087902"
      ]
     },
     "execution_count": 24,
     "metadata": {},
     "output_type": "execute_result"
    }
   ],
   "source": [
    "import sklearn\n",
    "from sklearn.metrics import roc_auc_score\n",
    "y_true = label_all[:,1]\n",
    "y_scores = probs[:,1]\n",
    "roc_auc_score(y_true, y_scores)"
   ]
  },
  {
   "cell_type": "code",
   "execution_count": 25,
   "metadata": {},
   "outputs": [
    {
     "data": {
      "text/plain": [
       "array([[0.6109031 , 0.389097  ],\n",
       "       [0.6149207 , 0.3850793 ],\n",
       "       [0.60556144, 0.39443856],\n",
       "       [0.6142497 , 0.3857503 ],\n",
       "       [0.5867505 , 0.41324952],\n",
       "       [0.6051118 , 0.39488825],\n",
       "       [0.6055841 , 0.3944159 ],\n",
       "       [0.6369817 , 0.36301827],\n",
       "       [0.6194553 , 0.38054475],\n",
       "       [0.6302593 , 0.36974072],\n",
       "       [0.5968811 , 0.4031189 ],\n",
       "       [0.6079366 , 0.39206338],\n",
       "       [0.5946718 , 0.40532815],\n",
       "       [0.6054201 , 0.39457986],\n",
       "       [0.63187426, 0.36812574],\n",
       "       [0.6321984 , 0.36780155],\n",
       "       [0.62467134, 0.37532866],\n",
       "       [0.5997581 , 0.40024182],\n",
       "       [0.64151853, 0.3584815 ],\n",
       "       [0.6339985 , 0.3660015 ],\n",
       "       [0.61272585, 0.38727418],\n",
       "       [0.62619513, 0.37380478],\n",
       "       [0.6318984 , 0.3681016 ],\n",
       "       [0.6065379 , 0.39346212],\n",
       "       [0.61785537, 0.38214466],\n",
       "       [0.62424225, 0.37575775],\n",
       "       [0.60751176, 0.39248824],\n",
       "       [0.6146182 , 0.38538173],\n",
       "       [0.6117626 , 0.3882374 ],\n",
       "       [0.5943425 , 0.40565747],\n",
       "       [0.60522157, 0.39477837],\n",
       "       [0.6083368 , 0.39166325],\n",
       "       [0.6062534 , 0.39374664],\n",
       "       [0.6224019 , 0.37759814],\n",
       "       [0.6237906 , 0.37620932],\n",
       "       [0.61448026, 0.38551974],\n",
       "       [0.614878  , 0.3851221 ],\n",
       "       [0.6328417 , 0.36715832],\n",
       "       [0.6052545 , 0.3947455 ],\n",
       "       [0.6204152 , 0.37958482],\n",
       "       [0.62792045, 0.3720795 ],\n",
       "       [0.6035102 , 0.39648977],\n",
       "       [0.63935554, 0.36064452],\n",
       "       [0.6105358 , 0.38946417],\n",
       "       [0.625519  , 0.37448102],\n",
       "       [0.6059393 , 0.39406064],\n",
       "       [0.6078419 , 0.3921581 ],\n",
       "       [0.64400417, 0.35599586],\n",
       "       [0.6402968 , 0.35970315],\n",
       "       [0.6050215 , 0.39497852],\n",
       "       [0.60676765, 0.3932323 ],\n",
       "       [0.64822364, 0.35177627],\n",
       "       [0.6245286 , 0.3754714 ],\n",
       "       [0.6159075 , 0.38409254],\n",
       "       [0.6069859 , 0.39301407],\n",
       "       [0.631268  , 0.368732  ],\n",
       "       [0.6087778 , 0.39122212],\n",
       "       [0.6416281 , 0.3583719 ],\n",
       "       [0.62384   , 0.37616006],\n",
       "       [0.6242747 , 0.3757253 ],\n",
       "       [0.6296854 , 0.37031457],\n",
       "       [0.60571307, 0.39428696],\n",
       "       [0.6266492 , 0.37335083],\n",
       "       [0.60327244, 0.3967276 ],\n",
       "       [0.62014484, 0.3798552 ],\n",
       "       [0.6319741 , 0.36802596],\n",
       "       [0.6203868 , 0.37961325],\n",
       "       [0.6362303 , 0.3637697 ],\n",
       "       [0.61296797, 0.38703206],\n",
       "       [0.59323204, 0.406768  ],\n",
       "       [0.62375945, 0.3762405 ],\n",
       "       [0.60943407, 0.39056593],\n",
       "       [0.6089128 , 0.39108714],\n",
       "       [0.6553929 , 0.34460714],\n",
       "       [0.61809945, 0.38190052],\n",
       "       [0.5998331 , 0.40016693],\n",
       "       [0.607788  , 0.39221197],\n",
       "       [0.62249875, 0.37750122],\n",
       "       [0.61702555, 0.38297445],\n",
       "       [0.5928158 , 0.40718418],\n",
       "       [0.62248456, 0.37751547],\n",
       "       [0.62403786, 0.3759621 ],\n",
       "       [0.6034306 , 0.39656934],\n",
       "       [0.63202256, 0.36797738],\n",
       "       [0.62138826, 0.3786117 ],\n",
       "       [0.59462595, 0.4053741 ],\n",
       "       [0.60484153, 0.3951585 ],\n",
       "       [0.60414666, 0.3958533 ],\n",
       "       [0.6355033 , 0.36449674],\n",
       "       [0.64937466, 0.35062528],\n",
       "       [0.63947076, 0.3605293 ],\n",
       "       [0.6264018 , 0.37359822],\n",
       "       [0.5990492 , 0.40095082],\n",
       "       [0.6380692 , 0.36193073],\n",
       "       [0.64733046, 0.35266954],\n",
       "       [0.60795075, 0.39204928],\n",
       "       [0.6089107 , 0.39108932],\n",
       "       [0.6040618 , 0.39593822],\n",
       "       [0.6324344 , 0.36756557],\n",
       "       [0.598366  , 0.401634  ]], dtype=float32)"
      ]
     },
     "execution_count": 25,
     "metadata": {},
     "output_type": "execute_result"
    }
   ],
   "source": [
    "probs[0:100,:]"
   ]
  },
  {
   "cell_type": "code",
   "execution_count": 28,
   "metadata": {},
   "outputs": [
    {
     "name": "stdout",
     "output_type": "stream",
     "text": [
      "2.2.4\n"
     ]
    }
   ],
   "source": [
    "print(keras.__version__)"
   ]
  },
  {
   "cell_type": "code",
   "execution_count": null,
   "metadata": {},
   "outputs": [],
   "source": []
  }
 ],
 "metadata": {
  "kernelspec": {
   "display_name": "Python 3",
   "language": "python",
   "name": "python3"
  },
  "language_info": {
   "codemirror_mode": {
    "name": "ipython",
    "version": 3
   },
   "file_extension": ".py",
   "mimetype": "text/x-python",
   "name": "python",
   "nbconvert_exporter": "python",
   "pygments_lexer": "ipython3",
   "version": "3.6.8"
  }
 },
 "nbformat": 4,
 "nbformat_minor": 2
}
